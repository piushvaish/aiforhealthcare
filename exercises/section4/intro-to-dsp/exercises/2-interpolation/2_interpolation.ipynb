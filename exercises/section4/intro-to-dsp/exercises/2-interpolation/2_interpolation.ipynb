{
 "cells": [
  {
   "cell_type": "markdown",
   "metadata": {},
   "source": [
    "# Exercise 2: Interpolation"
   ]
  },
  {
   "cell_type": "markdown",
   "metadata": {},
   "source": [
    "You want to use your (still hypothetical) R wave detection algorithm to output heart rate. You can easily compute heart rate by taking the difference between successive R wave peak times because the R wave corresponds to a heart beat. The heart rate is then just the reciprocal of the inter-beat-interval time. \n",
    "\n",
    "You find a dataset that has an ECG signal and a reference heart rate datastream. After running your algorithm on the dataset, you have a series of R wave peak times. The heart rates that you get from the inter-beat-interval times will be non-uniformly sequenced because the heart beats at non-uniform intervals. The reference heart rate is uniformly sampled, however. To compare these two datastreams you will need to interpolate your heart rate onto the reference stream first.\n",
    "\n",
    "The data you need is stored in the `npz` file as follows:  \n",
    " - `est_r_peaks` - the timestamps in seconds of the r peaks detected by your algorithm\n",
    " - `ref_ts` - the timestamps in seconds of the reference heart rate\n",
    " - `ref_hr` - the reference heart rate values in beats per minute\n",
    "\n",
    "You must first derive heart rate from your sequence of R peaks. Then interpolate your estimate heart rate stream to match up with the reference stream. Finally, compute the mean absolute error between the reference stream your estimate heart rate. The mean absolute error is the average absolute difference between each estimate heart rate and its reference value."
   ]
  },
  {
   "cell_type": "markdown",
   "metadata": {},
   "source": [
    "## Imports"
   ]
  },
  {
   "cell_type": "code",
   "execution_count": 1,
   "metadata": {},
   "outputs": [],
   "source": [
    "import numpy as np"
   ]
  },
  {
   "cell_type": "markdown",
   "metadata": {},
   "source": [
    "## Load Data"
   ]
  },
  {
   "cell_type": "code",
   "execution_count": 2,
   "metadata": {},
   "outputs": [],
   "source": [
    "npz = np.load(\"./exercise2.npz\")\n",
    "est_r_peaks = npz['est_r_peaks']\n",
    "ref_ts = npz['ref_ts']\n",
    "ref_hr = npz['ref_hr']"
   ]
  },
  {
   "cell_type": "markdown",
   "metadata": {},
   "source": [
    "## Estimate heart rate"
   ]
  },
  {
   "cell_type": "code",
   "execution_count": 4,
   "metadata": {},
   "outputs": [],
   "source": [
    "## Your Code Goes Here\n",
    "est_hr = est_r_peaks[1:]\n",
    "est_ts = est_r_peaks[:-1]\n",
    "est_hr = 1 / np.diff(est_r_peaks) * 60"
   ]
  },
  {
   "cell_type": "code",
   "execution_count": 5,
   "metadata": {},
   "outputs": [
    {
     "data": {
      "text/plain": [
       "array([  3.672,   4.496,   5.288,   6.04 ,   6.808,   7.592,   8.352,\n",
       "         9.104,   9.888,  10.672,  11.488,  12.36 ,  13.264,  14.12 ,\n",
       "        14.968,  15.776,  16.568,  17.368,  18.152,  18.96 ,  19.768,\n",
       "        20.608,  21.472,  22.28 ,  23.016,  23.736,  24.464,  25.208,\n",
       "        25.952,  26.656,  27.384,  28.144,  28.936,  29.856,  30.784,\n",
       "        31.696,  32.552,  33.424,  34.288,  35.12 ,  35.904,  36.688,\n",
       "        37.44 ,  38.144,  38.824,  39.528,  40.264,  41.008,  41.752,\n",
       "        42.472,  43.2  ,  43.92 ,  44.624,  45.32 ,  46.008,  46.664,\n",
       "        47.336,  47.984,  48.64 ,  49.296,  49.952,  50.592,  51.232,\n",
       "        51.872,  52.504,  53.12 ,  53.744,  54.36 ,  54.968,  55.576,\n",
       "        56.176,  56.776,  57.368,  57.968,  58.552,  59.136,  59.72 ,\n",
       "        60.296,  60.864,  61.44 ,  62.016,  62.6  ,  63.176,  63.752,\n",
       "        64.336,  64.92 ,  65.504,  66.088,  66.68 ,  67.256,  67.848,\n",
       "        68.424,  69.008,  69.584,  70.16 ,  70.736,  71.312,  71.88 ,\n",
       "        72.448,  73.016,  73.576,  74.128,  74.672,  75.224,  75.76 ,\n",
       "        76.296,  76.832,  77.36 ,  77.888,  78.424,  78.952,  79.496,\n",
       "        80.032,  80.576,  81.104,  81.64 ,  82.176,  82.704,  83.24 ,\n",
       "        83.768,  84.288,  84.816,  85.336,  85.864,  86.384,  86.904,\n",
       "        87.424,  87.944,  88.472,  88.992,  89.504,  90.032,  90.544,\n",
       "        91.064,  91.576,  92.088,  92.6  ,  93.112,  93.616,  94.12 ,\n",
       "        94.632,  95.128,  95.632,  96.128,  96.624,  97.12 ,  97.616,\n",
       "        98.104,  98.6  ,  99.088,  99.576, 100.056, 100.544, 101.016,\n",
       "       101.504, 101.976, 102.456, 102.928, 103.4  , 103.872, 104.336,\n",
       "       104.8  , 105.264, 105.728, 106.184, 106.64 , 107.096, 107.544,\n",
       "       108.   , 108.448, 108.888, 109.336, 109.784, 110.224, 110.664,\n",
       "       111.104, 111.544, 111.976, 112.408, 112.848, 113.28 , 113.712,\n",
       "       114.144, 114.568, 115.   , 115.432, 115.856, 116.28 , 116.712,\n",
       "       117.128, 117.552, 117.976, 118.4  , 118.816, 119.232, 119.656,\n",
       "       120.072, 120.496, 120.912, 121.336, 121.752, 122.168, 122.592,\n",
       "       123.008, 123.424, 123.84 , 124.264, 124.68 , 125.096, 125.52 ,\n",
       "       125.936, 126.352, 126.768, 127.184, 127.608, 128.024, 128.44 ,\n",
       "       128.856, 129.272, 129.688, 130.112, 130.52 , 130.936, 131.352,\n",
       "       131.768, 132.184, 132.592, 133.008, 133.424, 133.84 , 134.248,\n",
       "       134.656, 135.064, 135.48 , 135.888, 136.296, 136.704, 137.112,\n",
       "       137.52 , 137.928, 138.328, 138.728, 139.136, 139.536, 139.936,\n",
       "       140.336, 140.736, 141.136, 141.528, 141.928, 142.328, 142.72 ,\n",
       "       143.12 , 143.512, 143.904, 144.296, 144.688, 145.08 , 145.472,\n",
       "       145.864, 146.248, 146.64 , 147.024, 147.416, 147.808, 148.192,\n",
       "       148.576, 148.96 , 149.352, 149.736, 150.512, 150.896, 151.28 ,\n",
       "       151.664, 152.048, 152.432, 152.816, 153.2  , 153.584, 154.36 ,\n",
       "       155.136, 155.52 , 155.904, 156.288, 156.68 , 157.072, 157.456,\n",
       "       157.848, 158.232, 158.616, 159.008, 159.392, 159.784, 160.168,\n",
       "       160.56 , 160.952, 161.328, 161.72 , 162.104, 162.496, 162.88 ,\n",
       "       163.272, 163.656, 164.04 , 164.432, 164.808, 165.2  , 165.584,\n",
       "       165.968, 166.736, 167.128, 167.512, 167.896, 168.288, 168.672,\n",
       "       169.064, 169.448, 169.84 , 170.224, 170.616, 171.008, 171.776,\n",
       "       172.168, 172.552, 172.944, 173.336, 173.728, 174.12 , 174.512,\n",
       "       174.896, 175.288, 175.68 , 176.072, 176.464, 176.856, 177.248,\n",
       "       177.64 , 178.032, 178.424, 178.816, 179.216, 179.608, 180.   ,\n",
       "       180.4  , 180.792, 181.192, 181.584, 181.976, 182.368, 182.768,\n",
       "       183.168, 183.56 , 183.952, 184.352, 184.752, 185.144, 185.544,\n",
       "       185.944, 186.336, 186.736, 187.128, 187.52 , 187.912, 188.304,\n",
       "       188.704, 189.096, 189.488, 189.88 , 190.272, 190.672, 191.064,\n",
       "       191.456, 191.856, 192.248, 192.64 , 193.04 , 193.432, 193.824,\n",
       "       194.216, 194.616, 195.016, 195.408, 195.808, 196.2  , 196.6  ,\n",
       "       196.992, 197.384, 197.784, 198.176, 198.568, 198.968, 199.36 ,\n",
       "       199.76 , 200.16 , 200.552, 200.952, 201.344, 201.736, 202.136,\n",
       "       202.528, 202.92 , 203.312, 203.712, 204.104, 204.496, 204.896,\n",
       "       205.288, 205.688, 206.08 , 206.48 , 206.88 , 207.28 , 207.672,\n",
       "       208.072, 208.472, 208.872, 209.264, 209.664, 210.056, 210.656,\n",
       "       210.856, 211.256, 211.648, 212.048, 212.44 , 212.84 , 213.232,\n",
       "       213.624, 214.024, 214.424, 214.816, 215.216, 215.616, 216.016,\n",
       "       216.424, 216.824, 217.232, 217.632, 218.032, 218.432, 218.832,\n",
       "       219.232, 219.632, 220.04 , 220.44 , 220.84 , 221.24 , 221.64 ,\n",
       "       222.04 , 222.448, 222.848, 223.248, 223.648, 224.048, 224.456,\n",
       "       224.856, 225.256, 225.656, 226.056, 226.456, 226.848, 227.248,\n",
       "       227.648, 228.048, 228.44 , 228.832, 229.232, 229.624, 230.016,\n",
       "       230.408, 230.8  , 231.192, 231.584, 231.968, 232.36 , 232.752,\n",
       "       233.136, 233.528, 233.912, 234.68 , 235.064, 235.448, 235.84 ,\n",
       "       236.216, 236.608, 236.984, 237.368, 237.744, 238.12 , 238.504,\n",
       "       238.88 , 239.264, 239.648, 240.024, 240.4  , 240.776, 241.152,\n",
       "       241.528, 241.904, 242.28 , 242.648, 243.032, 243.776, 244.144,\n",
       "       244.52 , 244.888, 245.264, 245.824, 246.008, 246.384, 246.76 ,\n",
       "       247.128, 247.496, 247.864, 248.24 , 248.608, 248.976, 249.344,\n",
       "       249.712, 250.088, 250.456, 251.2  , 251.568, 251.928, 252.296,\n",
       "       252.664, 253.032, 253.4  , 253.768, 254.136, 254.504, 254.872,\n",
       "       255.248, 255.616, 255.976, 256.352, 256.712, 257.088, 257.456,\n",
       "       258.008, 258.192, 258.56 , 258.928, 259.296, 259.664, 260.024,\n",
       "       260.4  , 260.76 , 261.128, 261.496, 261.864, 262.232, 262.6  ,\n",
       "       262.968, 263.336, 263.704, 264.064, 264.432, 264.8  , 265.16 ,\n",
       "       265.528, 265.896, 266.256, 266.624, 266.992, 267.352, 267.712,\n",
       "       268.08 , 268.44 , 268.8  , 269.16 , 269.52 , 269.888, 270.248,\n",
       "       270.616, 270.976, 271.52 , 271.704, 272.064, 272.6  , 272.784,\n",
       "       273.144, 273.504, 273.864, 274.224, 274.592, 274.952, 275.312,\n",
       "       275.68 , 276.04 , 276.408, 276.768, 277.128, 277.496, 277.856,\n",
       "       278.224, 278.592, 278.96 , 279.32 , 279.688, 280.048, 280.416,\n",
       "       280.784, 281.152, 281.52 , 281.88 , 282.248, 282.616, 282.984,\n",
       "       283.352, 283.72 , 284.088, 284.456, 284.832, 285.2  , 285.576,\n",
       "       286.12 , 286.496, 286.688, 287.44 , 287.824, 288.2  , 288.576,\n",
       "       288.952, 289.328, 289.704, 290.088, 290.472, 290.848, 291.232,\n",
       "       291.616, 292.   , 292.384, 292.768, 293.16 , 293.544, 293.928,\n",
       "       294.312, 294.704, 295.096, 295.48 , 295.864, 296.64 , 297.024,\n",
       "       297.416, 297.792, 298.184, 298.568, 298.96 , 299.344, 299.736,\n",
       "       300.128, 300.52 , 300.904, 301.296, 301.696, 302.088, 302.488,\n",
       "       302.88 ])"
      ]
     },
     "execution_count": 5,
     "metadata": {},
     "output_type": "execute_result"
    }
   ],
   "source": [
    "est_ts"
   ]
  },
  {
   "cell_type": "markdown",
   "metadata": {},
   "source": [
    "## Interpolate\n",
    "Interpolate the heart rate estimates to align with the reference."
   ]
  },
  {
   "cell_type": "code",
   "execution_count": 6,
   "metadata": {},
   "outputs": [],
   "source": [
    "## Your Code Goes Here\n",
    "interp_est_hr = np.interp(ref_ts, est_ts, est_hr)"
   ]
  },
  {
   "cell_type": "markdown",
   "metadata": {},
   "source": [
    "## Compute MAE"
   ]
  },
  {
   "cell_type": "code",
   "execution_count": 7,
   "metadata": {},
   "outputs": [
    {
     "name": "stdout",
     "output_type": "stream",
     "text": [
      "5.088484360481217\n"
     ]
    }
   ],
   "source": [
    "## Your Code Goes Here\n",
    "mae = np.mean(np.abs(interp_est_hr - ref_hr))\n",
    "print(mae)"
   ]
  },
  {
   "cell_type": "code",
   "execution_count": null,
   "metadata": {},
   "outputs": [],
   "source": []
  }
 ],
 "metadata": {
  "kernelspec": {
   "display_name": "Python 3",
   "language": "python",
   "name": "python3"
  },
  "language_info": {
   "codemirror_mode": {
    "name": "ipython",
    "version": 3
   },
   "file_extension": ".py",
   "mimetype": "text/x-python",
   "name": "python",
   "nbconvert_exporter": "python",
   "pygments_lexer": "ipython3",
   "version": "3.7.6"
  },
  "toc": {
   "base_numbering": 1,
   "nav_menu": {},
   "number_sections": true,
   "sideBar": true,
   "skip_h1_title": false,
   "title_cell": "Table of Contents",
   "title_sidebar": "Contents",
   "toc_cell": false,
   "toc_position": {},
   "toc_section_display": true,
   "toc_window_display": false
  },
  "varInspector": {
   "cols": {
    "lenName": 16,
    "lenType": 16,
    "lenVar": 40
   },
   "kernels_config": {
    "python": {
     "delete_cmd_postfix": "",
     "delete_cmd_prefix": "del ",
     "library": "var_list.py",
     "varRefreshCmd": "print(var_dic_list())"
    },
    "r": {
     "delete_cmd_postfix": ") ",
     "delete_cmd_prefix": "rm(",
     "library": "var_list.r",
     "varRefreshCmd": "cat(var_dic_list()) "
    }
   },
   "types_to_exclude": [
    "module",
    "function",
    "builtin_function_or_method",
    "instance",
    "_Feature"
   ],
   "window_display": false
  }
 },
 "nbformat": 4,
 "nbformat_minor": 2
}
