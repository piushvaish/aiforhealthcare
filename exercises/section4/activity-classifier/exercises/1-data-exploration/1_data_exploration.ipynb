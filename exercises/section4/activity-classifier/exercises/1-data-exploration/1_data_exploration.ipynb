{
 "cells": [
  {
   "cell_type": "markdown",
   "metadata": {},
   "source": [
    "# Exercise 1: Data Exploration\n",
    "\n",
    "Use the code below to explore the raw timeseries data. Come up with 5 observations that might help inform an algorithm that you build using this data."
   ]
  },
  {
   "cell_type": "markdown",
   "metadata": {},
   "source": [
    "## Imports"
   ]
  },
  {
   "cell_type": "code",
   "execution_count": 1,
   "metadata": {},
   "outputs": [
    {
     "name": "stderr",
     "output_type": "stream",
     "text": [
      "/Users/pvaish/.local/share/virtualenvs/nd320-c4-wearable-data-starter-98Z8Doq0/lib/python3.7/site-packages/pandas/compat/__init__.py:85: UserWarning: Could not import the lzma module. Your installed Python is incomplete. Attempting to use lzma compression will result in a RuntimeError.\n",
      "  warnings.warn(msg)\n"
     ]
    }
   ],
   "source": [
    "import os\n",
    "\n",
    "from matplotlib import pyplot as plt\n",
    "import numpy as np\n",
    "import pandas as pd"
   ]
  },
  {
   "cell_type": "markdown",
   "metadata": {},
   "source": [
    "## Load Data"
   ]
  },
  {
   "cell_type": "code",
   "execution_count": 2,
   "metadata": {},
   "outputs": [],
   "source": [
    "data_dir = '../../data'\n",
    "filenames = [os.path.splitext(f)[0] for f in sorted(os.listdir(data_dir))]\n",
    "fs = 256"
   ]
  },
  {
   "cell_type": "code",
   "execution_count": 3,
   "metadata": {},
   "outputs": [],
   "source": [
    "data = []\n",
    "for f in filenames:\n",
    "    subject = f.split('_')[0]\n",
    "    activity = f.split('_')[1]\n",
    "    path = os.path.join(data_dir, f + '.csv')\n",
    "    df = pd.read_csv(path)\n",
    "    df = df.loc[: df.last_valid_index()]\n",
    "    data.append((subject, activity, df))"
   ]
  },
  {
   "cell_type": "markdown",
   "metadata": {},
   "source": [
    "## Offline\n",
    "\n",
    "Working in an offline notebook on your local machine is probably easier and faster for this exercise. See the instructions in the introductory lesson for this course to get started.\n",
    "\n",
    "Use the plotting code below to visualize the data."
   ]
  },
  {
   "cell_type": "markdown",
   "metadata": {},
   "source": [
    "### Pick a backend\n",
    "\n",
    "You can only pick one matplotlib backend so delete two lines of code from the cell below before running it."
   ]
  },
  {
   "cell_type": "code",
   "execution_count": 4,
   "metadata": {},
   "outputs": [
    {
     "name": "stdout",
     "output_type": "stream",
     "text": [
      "Warning: Cannot change to a different GUI toolkit: qt. Using osx instead.\n",
      "Warning: Cannot change to a different GUI toolkit: tk. Using osx instead.\n"
     ]
    }
   ],
   "source": [
    "# Use this backend if you are on MacOS\n",
    "%matplotlib osx  \n",
    "# Use this backend if you are not. \n",
    "%matplotlib qt   \n",
    "# A third backend to try if the ones above don't work. \n",
    "%matplotlib tk   "
   ]
  },
  {
   "cell_type": "markdown",
   "metadata": {},
   "source": [
    "### Sequentially Plot the Data\n",
    "\n",
    "You can interact with the plots with your mouse. Press any key on the keyboard to go to the next plot."
   ]
  },
  {
   "cell_type": "code",
   "execution_count": null,
   "metadata": {},
   "outputs": [
    {
     "name": "stderr",
     "output_type": "stream",
     "text": [
      "/Users/pvaish/.local/share/virtualenvs/nd320-c4-wearable-data-starter-98Z8Doq0/lib/python3.7/site-packages/ipykernel_launcher.py:11: UserWarning: Creating legend with loc=\"best\" can be slow with large amounts of data.\n",
      "  # This is added back by InteractiveShellApp.init_path()\n"
     ]
    }
   ],
   "source": [
    "for subject, activity, df in sorted(data, key=lambda x: x[1]):\n",
    "    ts = np.arange(len(df)) / fs\n",
    "    plt.clf()\n",
    "    plt.plot(ts, df.accx, label='x')\n",
    "    plt.plot(ts, df.accy, label='y')\n",
    "    plt.plot(ts, df.accz, label='z')\n",
    "    plt.title('{}_{}'.format(subject, activity))\n",
    "    plt.legend()\n",
    "    plt.ylim((-25, 25))\n",
    "    plt.draw()\n",
    "    while not plt.waitforbuttonpress():\n",
    "        pass"
   ]
  },
  {
   "cell_type": "markdown",
   "metadata": {},
   "source": [
    "## Inside the Udacity workspace\n",
    "\n",
    "Inside a VM you won't be able to open a new window so you have to plot the data inline. It's a lot of data to plot interactively so you may have to be patient. After examining the data from one activity class it's a good idea to clear that cell's output so you free up memory in the notebook. Click on the cell with the plots, then in the top menu `Cell` > `Current Outputs` > `Clear`"
   ]
  },
  {
   "cell_type": "code",
   "execution_count": null,
   "metadata": {},
   "outputs": [],
   "source": [
    "%matplotlib inline"
   ]
  },
  {
   "cell_type": "code",
   "execution_count": null,
   "metadata": {},
   "outputs": [],
   "source": [
    "import mpld3\n",
    "mpld3.enable_notebook()"
   ]
  },
  {
   "cell_type": "markdown",
   "metadata": {},
   "source": [
    "#### Plot biking data"
   ]
  },
  {
   "cell_type": "code",
   "execution_count": null,
   "metadata": {
    "scrolled": false
   },
   "outputs": [],
   "source": [
    "for subject, activity, df in data:\n",
    "    if activity != 'bike':\n",
    "        continue\n",
    "    ts = np.arange(len(df)) / fs\n",
    "    plt.figure(figsize=(12, 8))\n",
    "    plt.plot(ts, df.accx, label='x')\n",
    "    plt.plot(ts, df.accy, label='y')\n",
    "    plt.plot(ts, df.accz, label='z')\n",
    "    plt.title('{}_{}'.format(subject, activity))\n",
    "    plt.legend()\n",
    "    plt.ylim((-25, 25))\n",
    "    plt.draw()"
   ]
  },
  {
   "cell_type": "markdown",
   "metadata": {},
   "source": [
    "#### Plot running data"
   ]
  },
  {
   "cell_type": "code",
   "execution_count": null,
   "metadata": {},
   "outputs": [],
   "source": [
    "for subject, activity, df in sorted(data, key=lambda x: x[1]):\n",
    "    if activity != 'run':\n",
    "        continue\n",
    "    ts = np.arange(len(df)) / fs\n",
    "    plt.figure(figsize=(12, 8))\n",
    "    plt.plot(ts, df.accx, label='x')\n",
    "    plt.plot(ts, df.accy, label='y')\n",
    "    plt.plot(ts, df.accz, label='z')\n",
    "    plt.title('{}_{}'.format(subject, activity))\n",
    "    plt.legend()\n",
    "    plt.ylim((-25, 25))\n",
    "    plt.draw()"
   ]
  },
  {
   "cell_type": "markdown",
   "metadata": {},
   "source": [
    "#### Plot walking data"
   ]
  },
  {
   "cell_type": "code",
   "execution_count": null,
   "metadata": {},
   "outputs": [],
   "source": [
    "for subject, activity, df in sorted(data, key=lambda x: x[1]):\n",
    "    if activity != 'walk':\n",
    "        continue\n",
    "    ts = np.arange(len(df)) / fs\n",
    "    plt.figure(figsize=(12, 8))  \n",
    "    plt.plot(ts, df.accx, label='x')\n",
    "    plt.plot(ts, df.accy, label='y')\n",
    "    plt.plot(ts, df.accz, label='z')\n",
    "    plt.title('{}_{}'.format(subject, activity))\n",
    "    plt.legend()\n",
    "    plt.ylim((-25, 25))\n",
    "    plt.draw()"
   ]
  },
  {
   "cell_type": "markdown",
   "metadata": {},
   "source": [
    "## Observations"
   ]
  },
  {
   "cell_type": "markdown",
   "metadata": {},
   "source": [
    "What do you notice about the data that might be helpful when we start building a classifier?"
   ]
  },
  {
   "cell_type": "markdown",
   "metadata": {},
   "source": [
    "* Good separation between the channels\n",
    "* X and z is overlapped for running\n"
   ]
  },
  {
   "cell_type": "code",
   "execution_count": null,
   "metadata": {},
   "outputs": [],
   "source": []
  }
 ],
 "metadata": {
  "kernelspec": {
   "display_name": "Python 3",
   "language": "python",
   "name": "python3"
  },
  "language_info": {
   "codemirror_mode": {
    "name": "ipython",
    "version": 3
   },
   "file_extension": ".py",
   "mimetype": "text/x-python",
   "name": "python",
   "nbconvert_exporter": "python",
   "pygments_lexer": "ipython3",
   "version": "3.7.6"
  },
  "toc": {
   "base_numbering": 1,
   "nav_menu": {},
   "number_sections": true,
   "sideBar": true,
   "skip_h1_title": false,
   "title_cell": "Table of Contents",
   "title_sidebar": "Contents",
   "toc_cell": false,
   "toc_position": {},
   "toc_section_display": true,
   "toc_window_display": false
  },
  "varInspector": {
   "cols": {
    "lenName": 16,
    "lenType": 16,
    "lenVar": 40
   },
   "kernels_config": {
    "python": {
     "delete_cmd_postfix": "",
     "delete_cmd_prefix": "del ",
     "library": "var_list.py",
     "varRefreshCmd": "print(var_dic_list())"
    },
    "r": {
     "delete_cmd_postfix": ") ",
     "delete_cmd_prefix": "rm(",
     "library": "var_list.r",
     "varRefreshCmd": "cat(var_dic_list()) "
    }
   },
   "types_to_exclude": [
    "module",
    "function",
    "builtin_function_or_method",
    "instance",
    "_Feature"
   ],
   "window_display": false
  }
 },
 "nbformat": 4,
 "nbformat_minor": 2
}
