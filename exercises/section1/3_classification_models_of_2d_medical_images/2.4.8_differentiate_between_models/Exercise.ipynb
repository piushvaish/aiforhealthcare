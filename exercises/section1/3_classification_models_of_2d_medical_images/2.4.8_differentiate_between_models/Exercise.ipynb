{
 "cells": [
  {
   "cell_type": "code",
   "execution_count": null,
   "metadata": {},
   "outputs": [],
   "source": [
    "%matplotlib inline\n",
    "\n",
    "import pandas as pd\n",
    "import numpy as np\n",
    "import matplotlib.pyplot as plt\n",
    "import seaborn as sns\n",
    "import scipy.stats\n",
    "\n",
    "import skimage\n",
    "from skimage import io\n",
    "import glob\n",
    "\n",
    "import sklearn\n",
    "from scipy.ndimage import gaussian_filter"
   ]
  },
  {
   "cell_type": "markdown",
   "metadata": {},
   "source": [
    "## First we'll do background segmentation:"
   ]
  },
  {
   "cell_type": "code",
   "execution_count": null,
   "metadata": {},
   "outputs": [],
   "source": [
    "## Read in two mammo images: \n",
    "dense = io.imread('dense/mdb003.pgm')\n",
    "fatty = io.imread('fatty/mdb005.pgm')"
   ]
  },
  {
   "cell_type": "code",
   "execution_count": null,
   "metadata": {},
   "outputs": [],
   "source": [
    "plt.imshow(dense)"
   ]
  },
  {
   "cell_type": "code",
   "execution_count": null,
   "metadata": {},
   "outputs": [],
   "source": [
    "plt.imshow(fatty)"
   ]
  },
  {
   "cell_type": "code",
   "execution_count": null,
   "metadata": {},
   "outputs": [],
   "source": [
    "x = plt.hist(dense.ravel(),bins=256)"
   ]
  },
  {
   "cell_type": "code",
   "execution_count": null,
   "metadata": {},
   "outputs": [],
   "source": [
    "x = plt.hist(fatty.ravel(),bins=256)"
   ]
  },
  {
   "cell_type": "code",
   "execution_count": null,
   "metadata": {},
   "outputs": [],
   "source": [
    "## Next, experiment with different cut-off intensity thresholds to try to separate the background of the image\n",
    "## Uncomment the code below and play with the value of 'thresh' to create two new binarized images\n",
    "\n",
    "\n",
    "# thresh = \n",
    "\n",
    "# dense_bin = (dense > thresh) * 255\n",
    "# fatty_bin = (fatty > thresh) * 255"
   ]
  },
  {
   "cell_type": "code",
   "execution_count": null,
   "metadata": {},
   "outputs": [],
   "source": [
    "## Visualize the binarized images to see if the threshold you chose separates the breast tissue from the background\n",
    "plt.imshow(dense_bin)"
   ]
  },
  {
   "cell_type": "code",
   "execution_count": null,
   "metadata": {},
   "outputs": [],
   "source": [
    "plt.imshow(fatty_bin)"
   ]
  },
  {
   "cell_type": "markdown",
   "metadata": {},
   "source": [
    "Experiment with different values of 'thresh' above until you are satisfied that you are able to create a reasonable separation of tissue from background.\n",
    "\n",
    "One image pre-processing trick you might try before binarizing is _smoothing_ which you perform with a gaussian filter. Try adding the following step before binarization: \n",
    "\n",
    "img_smooth = gaussian_filter(img, sigma = 5)\n",
    "\n",
    "Where changing the value of _sigma_ will change the amount of smoothing. "
   ]
  },
  {
   "cell_type": "markdown",
   "metadata": {},
   "source": [
    "## Once you have chosen your value of thresh, let's use it to see if we can classify dense v. fatty breast tissue: "
   ]
  },
  {
   "cell_type": "code",
   "execution_count": null,
   "metadata": {},
   "outputs": [],
   "source": [
    "## Let's first get all of the intensity values of the breast tissue for our fatty breast images using the\n",
    "## segmentation method above\n",
    "fatty_imgs = glob.glob(\"fatty/*\")\n",
    "dense_imgs = glob.glob(\"dense/*\")\n",
    "\n",
    "fatty_intensities = []\n",
    "\n",
    "for i in fatty_imgs: \n",
    "    \n",
    "    img = plt.imread(i)\n",
    "    img_mask = (img > thresh)\n",
    "    fatty_intensities.extend(img[img_mask].tolist())\n",
    "    \n",
    "x = plt.hist(fatty_intensities,bins=256)"
   ]
  },
  {
   "cell_type": "code",
   "execution_count": null,
   "metadata": {},
   "outputs": [],
   "source": [
    "## Same for dense breast images \n",
    "dense_intensities = []\n",
    "\n",
    "for i in dense_imgs: \n",
    "    \n",
    "    img = plt.imread(i)\n",
    "    img_mask = (img > thresh)\n",
    "    dense_intensities.extend(img[img_mask].tolist())\n",
    "    \n",
    "x = plt.hist(dense_intensities,bins=256)"
   ]
  },
  {
   "cell_type": "code",
   "execution_count": null,
   "metadata": {},
   "outputs": [],
   "source": [
    "## Use scipy.stats.mode to get the mode of the two distributions above\n",
    "\n",
    "#dense_mode = \n",
    "#fatty_mode = "
   ]
  },
  {
   "cell_type": "code",
   "execution_count": null,
   "metadata": {},
   "outputs": [],
   "source": [
    "## Loop through all of the fatty images, binarize them using your threshold, and compare the peaks of the \n",
    "## distributions of the *tissue only* to the peaks of the distributions of all fatty and all dense breast images: \n",
    "\n",
    "for i in fatty_imgs: \n",
    "    \n",
    "    img = plt.imread(i)\n",
    "    img_mask = (img > thresh)\n",
    "    \n",
    "    ## Use scipy.stats.mode to get the mode of the tissue in the image: \n",
    "    #img_mode = \n",
    "    \n",
    "    fatty_delta = img_mode - fatty_mode\n",
    "    dense_delta = img_mode - dense_mode\n",
    "    \n",
    "    if (np.abs(fatty_delta) < np.abs(dense_delta)):\n",
    "        print(\"Fatty\")\n",
    "    else:\n",
    "        print(\"Dense\")"
   ]
  },
  {
   "cell_type": "code",
   "execution_count": null,
   "metadata": {},
   "outputs": [],
   "source": [
    "## Loop through all of the dense images, binarize them using your threshold, and compare the peaks of the \n",
    "## distributions of the *tissue only* to the peaks of the distributions of all fatty and all dense breast images: \n",
    "\n",
    "for i in dense_imgs: \n",
    "    \n",
    "    img = plt.imread(i)\n",
    "    img_mask = (img > thresh)\n",
    "    \n",
    "    ## Use scipy.stats.mode to get the mode of the tissue in the image: \n",
    "    #img_mode = \n",
    "    \n",
    "    fatty_delta = img_mode - scipy.stats.mode(fatty_intensities)[0][0]\n",
    "    dense_delta = img_mode - scipy.stats.mode(dense_intensities)[0][0]\n",
    "    \n",
    "    if (np.abs(fatty_delta) < np.abs(dense_delta)):\n",
    "        print(\"Fatty\")\n",
    "    else:\n",
    "        print(\"Dense\")"
   ]
  },
  {
   "cell_type": "code",
   "execution_count": null,
   "metadata": {},
   "outputs": [],
   "source": []
  },
  {
   "cell_type": "code",
   "execution_count": null,
   "metadata": {},
   "outputs": [],
   "source": []
  }
 ],
 "metadata": {
  "kernelspec": {
   "display_name": "Python 3",
   "language": "python",
   "name": "python3"
  },
  "language_info": {
   "codemirror_mode": {
    "name": "ipython",
    "version": 3
   },
   "file_extension": ".py",
   "mimetype": "text/x-python",
   "name": "python",
   "nbconvert_exporter": "python",
   "pygments_lexer": "ipython3",
   "version": "3.7.6"
  }
 },
 "nbformat": 4,
 "nbformat_minor": 2
}
