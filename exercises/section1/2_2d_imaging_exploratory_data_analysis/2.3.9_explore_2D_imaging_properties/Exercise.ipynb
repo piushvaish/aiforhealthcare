{
 "cells": [
  {
   "cell_type": "code",
   "execution_count": null,
   "metadata": {},
   "outputs": [],
   "source": [
    "%matplotlib notebook\n",
    "import pandas as pd\n",
    "import numpy as np\n",
    "import pydicom\n",
    "import skimage\n",
    "import matplotlib.pyplot as plt"
   ]
  },
  {
   "cell_type": "markdown",
   "metadata": {},
   "source": [
    "#### First, read in your dataframe of images with bounding box coordinates"
   ]
  },
  {
   "cell_type": "code",
   "execution_count": null,
   "metadata": {},
   "outputs": [],
   "source": [
    "bbox = pd.read_csv('bounding_boxes.csv')\n",
    "bbox"
   ]
  },
  {
   "cell_type": "markdown",
   "metadata": {},
   "source": [
    "#### For each of the three DICOM files listed in the dataframe, do the following: \n",
    "1. Read the DICOM's pixel_array attribute into a dataframe using the pydicom.dcmread function\n",
    "2. Visualize the image using plt.imshow\n",
    "3. Plot a histogram of the image pixel intensity values\n",
    "4. Find the mean and standard deviation of intensity values of the image, and standardize it using the standardization formula:\n",
    "```test\n",
    "(X - X_mean)/X_std_dev\n",
    "```\n",
    "\n",
    "5. Re-plot a histogram of the normalized intensity values\n",
    "6. Use the coordinates in the dataframe that tell the starting x & y values, and the width and height of the mass to plot visualize only the mass using plt.imshow\n",
    "7. Plot a histogram of the normalized intensity values of the mass"
   ]
  },
  {
   "cell_type": "code",
   "execution_count": null,
   "metadata": {},
   "outputs": [],
   "source": []
  }
 ],
 "metadata": {
  "kernelspec": {
   "display_name": "Python 3",
   "language": "python",
   "name": "python3"
  },
  "language_info": {
   "codemirror_mode": {
    "name": "ipython",
    "version": 3
   },
   "file_extension": ".py",
   "mimetype": "text/x-python",
   "name": "python",
   "nbconvert_exporter": "python",
   "pygments_lexer": "ipython3",
   "version": "3.7.6"
  }
 },
 "nbformat": 4,
 "nbformat_minor": 2
}
