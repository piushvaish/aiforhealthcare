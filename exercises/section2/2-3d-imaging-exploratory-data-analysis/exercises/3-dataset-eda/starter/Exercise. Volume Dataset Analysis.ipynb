{
 "cells": [
  {
   "cell_type": "markdown",
   "metadata": {},
   "source": [
    "# Volume Dataset Analysis\n",
    "\n",
    "In this exercise you will be analyzing a DICOM dataset. This dataset is not as conveniently organized on the filesystem as some of the datasets we have seen in this lesson so far. Rather, this dataset looks like something that you are likely to get as a raw dump from a clinical data archive.  \n",
    "\n",
    "Your task is to use the skills you have acquired in this lesson to go through this dataset and answer (or provide your best quess to) the following questions:\n",
    "\n",
    "1. What imaging modality was used to produce this dataset?\n",
    "2. Data from how many patients does the dataset include?\n",
    "3. How many studies are in the dataset?\n",
    "4. What are the oldest and the most recent studies in the dataset?\n",
    "5. How many series are in the dataset?\n",
    "\n",
    "In addition, do the following tasks:\n",
    "\n",
    "6. List voxel dimensions of all 3D volumes (i.e. series) that the dataset contains as WxHxD\n",
    "7. The dataset contains two outliers. Can you find them? There is more than one way to find them. Type up why do you think these volumes are outliers and what approach you used.\n",
    "\n",
    "Lastly, I understand that you are not a radiologist quite yet, but as a *stretch goal*, do the following: \n",
    "\n",
    "* Load a few series into 3D slicer and tell what is the anatomy imaged in our dataset\n",
    "\n",
    "You can assume that this dataset is consistent with DICOM information model, i.e. all instances within series share common attributes of the series and all instances within study share common study attributes. In other words, you can expect that something like Series Description will be the same for all instances belonging to the same series and you can read this value from any one file of the series. You can also expect that all the slices in same series have equal resolution and are evenly spaced."
   ]
  },
  {
   "cell_type": "markdown",
   "metadata": {},
   "source": [
    "---"
   ]
  },
  {
   "cell_type": "code",
   "execution_count": 3,
   "metadata": {},
   "outputs": [],
   "source": [
    "# TASK: write code to answer the questions above. You will find the dataset in the folder called \"data\".\n",
    "\n",
    "# <YOUR CODE HERE>"
   ]
  }
 ],
 "metadata": {
  "kernelspec": {
   "display_name": "Python 3",
   "language": "python",
   "name": "python3"
  },
  "language_info": {
   "codemirror_mode": {
    "name": "ipython",
    "version": 3
   },
   "file_extension": ".py",
   "mimetype": "text/x-python",
   "name": "python",
   "nbconvert_exporter": "python",
   "pygments_lexer": "ipython3",
   "version": "3.7.6"
  }
 },
 "nbformat": 4,
 "nbformat_minor": 4
}
